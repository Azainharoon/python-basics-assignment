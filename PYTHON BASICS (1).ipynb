{
 "cells": [
  {
   "cell_type": "code",
   "execution_count": 4,
   "id": "e4644d32-a1b0-41a4-9b18-b784b64807d8",
   "metadata": {},
   "outputs": [],
   "source": [
    "#THEORY QUESTIONS"
   ]
  },
  {
   "cell_type": "code",
   "execution_count": null,
   "id": "4f3a925a-8f95-48c9-843f-730671d0a947",
   "metadata": {},
   "outputs": [],
   "source": [
    "\"\"\"Q1. What is python & Why is so popular ?\n",
    "Ans.Python is a widely used high-level programming language known for its simplicity, readability, and versatility. It is popular because of:\n",
    "    -> Easy-to-learn syntax\n",
    "    -> Extensive libraries and frameworks\n",
    "    -> Wide range of applications (Web, AI, Data Science, Automation, etc.)\n",
    "    -> Strong community support\n",
    "\n",
    "Q2. What is an interpreter in Python?\n",
    "Ans.A Python interpreter is a program that executes Python code line by line. It converts Python code into an intermediate form (bytecode) and then       runs it on the Python Virtual Machine (PVM).\n",
    "\n",
    "Q3. What are pre-defined keywords in Python?\n",
    "Ans. Predefined keywords are reserved words in Python that have a specific meaning and function. They cannot be used as variable names, function names, or identifiers.\n",
    "Example: if, else, while, def, class, return, etc.\n",
    "\n",
    "Q4. Can keywords be used as variable names ?\n",
    "Ans. No, keywords cannot be used as variable names because they have a predefined function in Python.\n",
    "      Incorrect: def = 5 (invalid)\n",
    "      Correct: definition = 5 (valid variable name)\n",
    "\n",
    "Q5. What is mutability in Python ?\n",
    "Ans.No, keywords cannot be used as variable names because they have a predefined function in Python.\n",
    "     Incorrect: def = 5 (invalid)\n",
    "     Correct: definition = 5 (valid variable name)\n",
    "\n",
    "Q6. Why are lists mutable, but tuples are immutable ?\n",
    "Ans. Lists are mutable because they store references to elements, allowing modification (adding, removing, updating).\n",
    "    Tuples are immutable because they store fixed values, ensuring data integrity, faster access, and hashability.\n",
    "\n",
    "Q7. What is the difference between “==” and “is” operators in Python ?\n",
    "Ans. \"== \"(Equality operator) : Compares values of two objects.\n",
    "     \"is\"(Identity operator) : Compares memory addresses of objects.\n",
    "\n",
    "Q8. What are logical operators in Python ?\n",
    "Ans. : Logical operators are used to combine conditional statements. They return True or False.\n",
    "\n",
    "    and → Returns True if both conditions are True.\n",
    "    or → Returns True if at least one condition is True.\n",
    "    not → Negates a boolean value.\n",
    "\n",
    "Q9. What is type casting in Python ?\n",
    "Ans. Type casting, also known as type conversion, is the process of converting one data type into another in Python. This allows data to be utilized       in different formats as needed.\n",
    "\n",
    "Q10. What is the difference between implicit and explicit type casting ?\n",
    "Ans. In Python, implicit type casting happens automatically (i.e., Python handles it on its own), whereas explicit type casting requires manual             involvement by the user.\n",
    "\n",
    "Q11. What is the purpose of conditional statements in Python ?\n",
    "Ans. Conditional statements in Python help a program decide what to do based on conditions. They run different code blocks depending on whether a          condition is True or False.\n",
    "\n",
    "Q12.  How does the elif statement work ?\n",
    "Ans. The elif (short for 'else if') statement is used to check multiple conditions. It works with if and else, executing the first block where the         condition is True and skipping the rest.\n",
    "\n",
    "Q13. What is the difference between for and while loops ?\n",
    "Ans. A while loop repeatedly executes a block of code until a specified condition is met, whereas a for loop iterates over a sequence of elements.\n",
    "\n",
    "Q14. Describe a scenario where a while loop is more suitable than a for loop?\n",
    "Ans. A while loop is used when the number of repetitions is unknown, whereas a for loop is used to iterate over a sequence of known elements. For          example, if we need to write a Python program that keeps asking the user for the correct number until they enter it, we should use a while loop.\n",
    "     i.e\n",
    "       correct_number = 7\n",
    "       guess = 0\n",
    "\n",
    "      while guess != correct_number:\n",
    "          guess = int(input(\"Guess the number (1-10): \"))\n",
    "    \n",
    "      print(\"Correct! You guessed it.\")\n",
    "\"\"\""
   ]
  },
  {
   "cell_type": "code",
   "execution_count": 1,
   "id": "bb5c36cd-a808-47f5-9cee-a21a82014374",
   "metadata": {},
   "outputs": [],
   "source": [
    "#Practical questions"
   ]
  },
  {
   "cell_type": "code",
   "execution_count": 2,
   "id": "9e5d3532-cf27-417c-9405-b569087d9a74",
   "metadata": {},
   "outputs": [
    {
     "name": "stdout",
     "output_type": "stream",
     "text": [
      "Hello world\n"
     ]
    }
   ],
   "source": [
    "#Q1. Write a  python program to print \"hello world\"?\n",
    "print(\"Hello world\")"
   ]
  },
  {
   "cell_type": "code",
   "execution_count": 16,
   "id": "d371ea8c-c785-4bf5-bafb-3114de5a1389",
   "metadata": {},
   "outputs": [
    {
     "name": "stdout",
     "output_type": "stream",
     "text": [
      "{'Name': 'Azain haroon'}\n",
      "{'Age': 22}\n"
     ]
    }
   ],
   "source": [
    "#Q2. 8 Write a Python program that displays your name and age?\n",
    "name=\"Azain haroon\"\n",
    "age=22\n",
    "print({\"Name\": name})\n",
    "print({\"Age\":age})"
   ]
  },
  {
   "cell_type": "code",
   "execution_count": 22,
   "id": "99125c74-cf29-451e-836c-9996b27995c5",
   "metadata": {},
   "outputs": [
    {
     "name": "stdout",
     "output_type": "stream",
     "text": [
      "python keywords:\n",
      "['False', 'None', 'True', 'and', 'as', 'assert', 'async', 'await', 'break', 'class', 'continue', 'def', 'del', 'elif', 'else', 'except', 'finally', 'for', 'from', 'global', 'if', 'import', 'in', 'is', 'lambda', 'nonlocal', 'not', 'or', 'pass', 'raise', 'return', 'try', 'while', 'with', 'yield']\n"
     ]
    }
   ],
   "source": [
    "#Q3. Write code to print all the pre-defined keywords in Python using the keyword library?\n",
    "import keyword\n",
    "print(\"python keywords:\")\n",
    "print(keyword.kwlist)"
   ]
  },
  {
   "cell_type": "code",
   "execution_count": 41,
   "id": "f959af0e-3778-4db8-ab4a-38bcbeeb3280",
   "metadata": {},
   "outputs": [
    {
     "name": "stdin",
     "output_type": "stream",
     "text": [
      "please enter the keyword: azain\n"
     ]
    },
    {
     "name": "stdout",
     "output_type": "stream",
     "text": [
      "azain is not a python keyword\n"
     ]
    }
   ],
   "source": [
    "#$Q4.8 Write a program that checks if a given word is a Python keyword.?\n",
    "word=input(\"please enter the keyword:\")\n",
    "if word in keyword.kwlist:\n",
    "    print(f\"{word} is a python keyword\")\n",
    "else:\n",
    "    print(f\"{word} is not a python keyword\")"
   ]
  },
  {
   "cell_type": "code",
   "execution_count": 1,
   "id": "a82d85eb-a0a5-4ce3-9d1c-83434e8c57e8",
   "metadata": {},
   "outputs": [
    {
     "name": "stdout",
     "output_type": "stream",
     "text": [
      "changed list [1, 2, 3, 4]\n",
      "Error: 'tuple' object does not support item assignment\n"
     ]
    }
   ],
   "source": [
    "#Q5.Create a list and tuple in Python, and demonstrate how attempting to change an element works differently for each?\n",
    "list1= [1,2,5,6]\n",
    "tuple1=(1,2,3,4)\n",
    "\n",
    "#changing elements for list:\n",
    "list1[2]= 3\n",
    "list1[3]=4\n",
    "print(\"changed list\",list1)\n",
    "\n",
    "#Now changing elements for tuple:\n",
    "try:\n",
    "    tuple1[3] = 5  # This will raise an error\n",
    "except TypeError as e:\n",
    "    print(\"Error:\", e)  # Tuples cannot be modified"
   ]
  },
  {
   "cell_type": "code",
   "execution_count": 2,
   "id": "7960d407-9d21-4a4f-b679-ddbfe8da62cf",
   "metadata": {},
   "outputs": [
    {
     "name": "stdout",
     "output_type": "stream",
     "text": [
      "Before modification:\n",
      "List: [1, 2, 3, 4]\n",
      "Tuple: (1, 2, 3, 4)\n",
      "Modified list: [5, 2, 3, 4]\n",
      "Error: 'tuple' object does not support item assignment\n"
     ]
    }
   ],
   "source": [
    "#Q6. Write a function to demonstrate the behavior of mutable and immutable arguments?\n",
    "# Creating a list and a tuple\n",
    "list1 = [1, 2, 3, 4]\n",
    "tuple1 = (1, 2, 3, 4)\n",
    "def mutable_immutable(list1, tuple1):\n",
    "    print(\"Before modification:\")\n",
    "    print(\"List:\", list1)\n",
    "    print(\"Tuple:\", tuple1)\n",
    "\n",
    "    # Modifying the list (Mutable)\n",
    "    list1[0]=5  # Lists support modification\n",
    "    print(\"Modified list:\", list1)\n",
    "\n",
    "    # Attempting to modify the tuple (Immutable)\n",
    "    try:\n",
    "        tuple1[1] = 10  # Tuples do not support item assignment\n",
    "    except TypeError as e:\n",
    "        print(\"Error:\", e)\n",
    "mutable_immutable(list1,tuple1) # now calling the function"
   ]
  },
  {
   "cell_type": "code",
   "execution_count": 62,
   "id": "3ba853ee-ee00-4da3-968a-4a231cd6dff3",
   "metadata": {},
   "outputs": [
    {
     "name": "stdin",
     "output_type": "stream",
     "text": [
      "Enter the first number:  4\n",
      "Enter the second number:  5\n"
     ]
    },
    {
     "name": "stdout",
     "output_type": "stream",
     "text": [
      "The multiplication of two numbers 4 and 5 is 20\n"
     ]
    }
   ],
   "source": [
    "#Q7. Write a program that performs basic arithmetic operations on two user-input numbers.?\n",
    "# Taking user input\n",
    "a = int(input(\"Enter the first number: \"))\n",
    "b = int(input(\"Enter the second number: \"))\n",
    "\n",
    "# Multiplication\n",
    "c = a * b\n",
    "\n",
    "# Displaying the result\n",
    "print(f\"The multiplication of two numbers {a} and {b} is {c}\")"
   ]
  },
  {
   "cell_type": "code",
   "execution_count": 63,
   "id": "91c99060-8435-4664-83db-5c2084700c42",
   "metadata": {},
   "outputs": [
    {
     "name": "stdout",
     "output_type": "stream",
     "text": [
      "x and y: False\n",
      "x or y: True\n",
      "not x: False\n",
      "not y: True\n"
     ]
    }
   ],
   "source": [
    "#Q8 Write a program to demonstrate the use of logical operators.?\n",
    "x = True\n",
    "y = False\n",
    "\n",
    "# Logical AND\n",
    "print(\"x and y:\", x and y)  # False (both need to be True)\n",
    "\n",
    "# Logical OR\n",
    "print(\"x or y:\", x or y)  # True (at least one is True)\n",
    "\n",
    "# Logical NOT\n",
    "print(\"not x:\", not x)  # False (negates the value)\n",
    "print(\"not y:\", not y)  # True (negates the value)"
   ]
  },
  {
   "cell_type": "code",
   "execution_count": 66,
   "id": "a86906c9-8887-485c-b015-5508e7d53788",
   "metadata": {},
   "outputs": [
    {
     "name": "stdin",
     "output_type": "stream",
     "text": [
      "Enter a number:  10\n"
     ]
    },
    {
     "name": "stdout",
     "output_type": "stream",
     "text": [
      "String to Integer: 10\n",
      "String to Float: 10.0\n",
      "String to Boolean: True\n"
     ]
    }
   ],
   "source": [
    "#Q9.  Write a Python program to convert user input from string to integer, float, and boolean types.?\n",
    "#taking user input\n",
    "a = input(\"Enter a number: \")\n",
    "\n",
    "# Converting string input to different data types\n",
    "int_value = int(a)      # Convert to integer\n",
    "float_value = float(a)  # Convert to float\n",
    "bool_value = bool(a)    # Convert to boolean\n",
    "\n",
    "# Displaying results\n",
    "print(f\"String to Integer: {int_value}\")\n",
    "print(f\"String to Float: {float_value}\")\n",
    "print(f\"String to Boolean: {bool_value}\")"
   ]
  },
  {
   "cell_type": "code",
   "execution_count": 72,
   "id": "a807335e-e576-4070-8d21-4f1b566f8821",
   "metadata": {},
   "outputs": [
    {
     "name": "stdout",
     "output_type": "stream",
     "text": [
      "Before type casting: ['1', '2', '3', '4']\n",
      "After type casting to integers: [1, 2, 3, 4]\n"
     ]
    }
   ],
   "source": [
    "#.Q10 Write code to demonstrate type casting with list elements.?\n",
    "l1 = [\"1\", \"2\", \"3\", \"4\"]  # List of strings\n",
    "print(\"Before type casting:\", l1)\n",
    "\n",
    "\n",
    "# Type casting string elements to integers\n",
    "l1 = [int(i) for i in l1]\n",
    "print(\"After type casting to integers:\", l1)"
   ]
  },
  {
   "cell_type": "code",
   "execution_count": 75,
   "id": "474eede5-dbd7-44aa-a81c-4c769e0898b2",
   "metadata": {},
   "outputs": [
    {
     "name": "stdin",
     "output_type": "stream",
     "text": [
      "Enter a number:  -1\n"
     ]
    },
    {
     "name": "stdout",
     "output_type": "stream",
     "text": [
      "-1 is a negative number.\n"
     ]
    }
   ],
   "source": [
    "#Q11. Write a program that checks if a number is positive, negative, or zero.\n",
    "\n",
    "# Taking user input\n",
    "a = int(input(\"Enter a number: \"))\n",
    "\n",
    "# Checking if the number is positive, negative, or zero\n",
    "if a > 0:\n",
    "    print(f\"{a} is a positive number.\")\n",
    "elif a < 0:\n",
    "    print(f\"{a} is a negative number.\")\n",
    "else:\n",
    "    print(f\"{a} is equal to zero.\")"
   ]
  },
  {
   "cell_type": "code",
   "execution_count": 78,
   "id": "bcb63667-6cd2-4c64-b90d-e7549db200a1",
   "metadata": {},
   "outputs": [
    {
     "name": "stdout",
     "output_type": "stream",
     "text": [
      "1 2 3 4 5 6 7 8 9 10 "
     ]
    }
   ],
   "source": [
    "#Q12. Write a for loop to print numbers from 1 to 10?\n",
    "\n",
    "for a in range(1, 11):  # Start from 1, end at 10\n",
    "    print(a, end=\" \")  # Print numbers in a single line with space"
   ]
  },
  {
   "cell_type": "code",
   "execution_count": 81,
   "id": "f18504ef-7f1b-4077-8ebd-4c87eb652818",
   "metadata": {},
   "outputs": [
    {
     "name": "stdout",
     "output_type": "stream",
     "text": [
      "Sum of all even numbers between 1 and 50 is: 650\n"
     ]
    }
   ],
   "source": [
    "#Q13 Write a Python program to find the sum of all even numbers between 1 and 50.?\n",
    "# Initialize sum variable\n",
    "sum_even = 0\n",
    "\n",
    "# Loop through numbers from 1 to 50\n",
    "for i in range(1, 51):\n",
    "    if i % 2 == 0:  # Check if the number is even\n",
    "        sum_even += i  # Add even number to sum\n",
    "\n",
    "# Print the result\n",
    "print(\"Sum of all even numbers between 1 and 50 is:\", sum_even)\n",
    "        "
   ]
  },
  {
   "cell_type": "code",
   "execution_count": 82,
   "id": "79f7c730-3299-41c0-ab1f-fe3f5b22c7ed",
   "metadata": {},
   "outputs": [
    {
     "name": "stdout",
     "output_type": "stream",
     "text": [
      "niaza"
     ]
    }
   ],
   "source": [
    "#Q14.Write a program to reverse a string using a while loop.?\n",
    "a = \"azain\"\n",
    "i = len(a) - 1\n",
    "\n",
    "while i >= 0:\n",
    "    print(a[i], end=\"\")  # Print characters in reverse order\n",
    "    i -= 1"
   ]
  },
  {
   "cell_type": "code",
   "execution_count": 85,
   "id": "054b716b-a984-4879-be80-41be38538e52",
   "metadata": {},
   "outputs": [
    {
     "name": "stdin",
     "output_type": "stream",
     "text": [
      "Enter a number:  6\n"
     ]
    },
    {
     "name": "stdout",
     "output_type": "stream",
     "text": [
      "Factorial of 6 is 720\n"
     ]
    }
   ],
   "source": [
    "#Q15. Write a Python program to calculate the factorial of a number provided by the user using a while loop.?\n",
    "a = int(input(\"Enter a number: \"))\n",
    "\n",
    "# Initialize factorial as 1 (since factorial of 0 and 1 is 1)\n",
    "factorial = 1\n",
    "\n",
    "# special case when input is 0\n",
    "if a == 0:\n",
    "    print(\"Factorial of 0 is 1\")\n",
    "else:\n",
    "    # Using while loop to calculate factorial\n",
    "    i = a\n",
    "    while i > 0:\n",
    "        factorial *= i\n",
    "        i -= 1  # Decrease i in each iteration\n",
    "\n",
    "    # Display the result\n",
    "    print(f\"Factorial of {a} is {factorial}\")"
   ]
  }
 ],
 "metadata": {
  "kernelspec": {
   "display_name": "Python 3 (ipykernel)",
   "language": "python",
   "name": "python3"
  },
  "language_info": {
   "codemirror_mode": {
    "name": "ipython",
    "version": 3
   },
   "file_extension": ".py",
   "mimetype": "text/x-python",
   "name": "python",
   "nbconvert_exporter": "python",
   "pygments_lexer": "ipython3",
   "version": "3.13.1"
  }
 },
 "nbformat": 4,
 "nbformat_minor": 5
}
